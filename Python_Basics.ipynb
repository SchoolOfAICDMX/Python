{
 "cells": [
  {
   "cell_type": "markdown",
   "metadata": {
    "collapsed": true,
    "pycharm": {
     "is_executing": false
    }
   },
   "source": [
    "# Python: The Basics\n",
    "\n",
    "### Por que Python?\n",
    "Python es muy amigable para principiantes, para saber como instalar Python te recomendamos consultar nuestra [guia](). La sintaxis (palabras y estructura) es extremadamente simple de leer y seguir como lo podemos apreciar con el siguiente ejemplo:"
   ]
  },
  {
   "cell_type": "code",
   "execution_count": null,
   "metadata": {},
   "outputs": [],
   "source": [
    "SOAI = \"Python\", \"Jupyter Notebook\", \"Data Structures\", \"Algorithms\", \"Numpy\", \"Pandas\", \"Matplotlib\"\n",
    "\n",
    "for topic in SOAI:\n",
    "    print(topic)"
   ]
  },
  {
   "cell_type": "markdown",
   "metadata": {},
   "source": [
    "Python es un lenguaje de programación completamente funcional que puede hacer cualquier cosa que cualquier otro lenguaje puede hacer.\n",
    "\n",
    "La mayoría de los módulos de procesamiento de datos son en realidad 'wrappers' de Python alrededor del código C / C ++.\n",
    "\n",
    "Para hacer la labor de programar mas eficiente Python hace uso de modulos que son codigos de Python pre-escritos y listos para ser utlizados por desarrolladores como tu, la idea detras de estos modulos es hacer que el codigo que escribas sea lo mas limpio y eficiente posible. Como otros lenguejes de programacion Python incentiva el hacer uso del concepto de DRY, Don't Repeat Yourself.\n",
    "\n",
    "## Strings & funcion Print\n",
    "### Funcion Print\n",
    "La funcion 'print()'es una función que se envía a la ventana de la consola, independientemente de lo que diga que desea imprimir. Puede parecer que la función 'print()' es bastante inútil, pero en realidad es una de las funciones más utilizadas en Python. La razón de esto es que es una excelente herramienta de debugging.\n",
    "\n",
    "\"Debugging\" es el término dado al acto de buscar, eliminar y corregir errores y errores dentro del código. Si algo no está funcionando bien, puede usar la función de impresión para imprimir lo que está sucediendo en el programa.\n",
    "\n",
    "### Strings\n",
    "Los 'strings' son strings/cadenas de texto. Los strings son un tipo de datos. Otro tipo de datos son los integers. Un ejemplo simple:"
   ]
  },
  {
   "cell_type": "code",
   "execution_count": null,
   "metadata": {},
   "outputs": [],
   "source": [
    "print('Single Quotes')\n",
    "print(\"Double Quotes\")"
   ]
  },
  {
   "cell_type": "markdown",
   "metadata": {},
   "source": [
    "En el ejemplo anterior estamos imprimiendo un String, es importante que observes que podemos usar '' o \"\".\n",
    "\n",
    "Podemos usar la funcion print() para concatenar usando \"+\" o \",\" para concatenar Strings. Si usamos \",\" vamos a tener un espacion entre los strings que unimos. Si utlizamos \"+\" los Strings se van a unir sin espacio.\n",
    "\n",
    "Si usamos \"+\" para un integer y un float, se realizara una operacion aritmetica. Si utilizamos \",\" se van a imprimir por separado un un espacio entre ellos.\n",
    "\n",
    "Para unir Strings con Integers o Floats no puedes usar \"+\", tienes que usar \",\""
   ]
  },
  {
   "cell_type": "code",
   "execution_count": null,
   "metadata": {},
   "outputs": [],
   "source": [
    "print('Correcto',5)"
   ]
  },
  {
   "cell_type": "code",
   "execution_count": null,
   "metadata": {},
   "outputs": [],
   "source": [
    "print('Incorrecto:'+5)"
   ]
  },
  {
   "cell_type": "markdown",
   "metadata": {},
   "source": [
    "Es importante tener en cuenta como colocar las comillas dentro de los Strings. Puedes poner comillas dobles dentro de las cadenas, comillas sencillas dentro de dobles o usar la barra diagonal inversa \"\\\". \"\\\" es un caracter de escape, esto quiere decir que cuando lo usemos va a 'escapar' a la caracteristica del siguiete caracter y solo va a tomar el aspecto visual. Ejemplo:"
   ]
  },
  {
   "cell_type": "code",
   "execution_count": null,
   "metadata": {},
   "outputs": [],
   "source": [
    "print('Incorrecto's')"
   ]
  },
  {
   "cell_type": "code",
   "execution_count": null,
   "metadata": {},
   "outputs": [],
   "source": [
    "print('you\\'ll have success here')"
   ]
  },
  {
   "cell_type": "code",
   "execution_count": null,
   "metadata": {},
   "outputs": [],
   "source": [
    "print(\"you'll have success here too\")"
   ]
  },
  {
   "cell_type": "markdown",
   "metadata": {},
   "source": [
    "### Matematicas\n",
    "Las matematicas son un tema muy popular y eso hizo que sean muy sencillas de utlizar con Python."
   ]
  },
  {
   "cell_type": "code",
   "execution_count": null,
   "metadata": {},
   "outputs": [],
   "source": [
    "# Esto es una suma simple.\n",
    "1+3"
   ]
  },
  {
   "cell_type": "code",
   "execution_count": null,
   "metadata": {},
   "outputs": [],
   "source": [
    "# Esto es una multiplicacion simple\n",
    "4*4"
   ]
  },
  {
   "cell_type": "code",
   "execution_count": null,
   "metadata": {},
   "outputs": [],
   "source": [
    "# Esto es una resta simple.\n",
    "5-2"
   ]
  },
  {
   "cell_type": "code",
   "execution_count": null,
   "metadata": {},
   "outputs": [],
   "source": [
    "# Esto es una division simple \n",
    "5/2"
   ]
  },
  {
   "cell_type": "code",
   "execution_count": null,
   "metadata": {},
   "outputs": [],
   "source": [
    "# Esto es un exponencial simple\n",
    "4**4"
   ]
  },
  {
   "cell_type": "markdown",
   "metadata": {},
   "source": [
    "### Variables\n",
    "En casi todos los progrmas que escribas en Python vas a hacer uso de variables, que en terminos muy simples son 'placeholders'. Las variables ayudan a los programas a volverse mucho más dinámicos, y permiten que un programa siempre haga referencia a un valor en un punto, en lugar de que el programador tenga que escribirlo repetidamente o cambiarlo si deciden usar una definición diferente para él.\n",
    "\n",
    "Puedes nombrar a tus variables como quieras, es buena practica que no hangan conflicto con las funciones de tu programa y no podras asignar nombres reservados por Python al igual que no pueden comenzar con un numero. Debes tener cuidado al nombrar tus varianles, clases y funciones para evitar conflictos."
   ]
  },
  {
   "cell_type": "code",
   "execution_count": null,
   "metadata": {},
   "outputs": [],
   "source": [
    "# En este caso el 55 se va a imprimir\n",
    "varEjemplo = 55\n",
    "print(varEjemplo)"
   ]
  },
  {
   "cell_type": "code",
   "execution_count": null,
   "metadata": {},
   "outputs": [],
   "source": [
    "# Esto va a arrojar un error, necesitas poner comillas para que sea una variable valida\n",
    "malaVariable = Hey!"
   ]
  },
  {
   "cell_type": "code",
   "execution_count": null,
   "metadata": {},
   "outputs": [],
   "source": [
    "# Esta es una variable aceptable\n",
    "buenaVariable = 'Hola!'\n",
    "print(buenaVariable)"
   ]
  },
  {
   "cell_type": "code",
   "execution_count": null,
   "metadata": {},
   "outputs": [],
   "source": [
    "# Como podemos ver, se puede tener el resultado de una operacion dentro de una variable\n",
    "conOperaciones = 5/4\n",
    "print(conOperaciones)"
   ]
  },
  {
   "cell_type": "markdown",
   "metadata": {},
   "source": [
    "### While Loop\n",
    "Tenemos 2 Loops en Python:\n",
    "\n",
    "    - for loop\n",
    "    - while loop\n",
    "\n",
    "Ambos alcanzan resultados similares y se pueden usar, en la mayoria de los casos, para alcanzar el mismo resultado. Generalmente el 'for loop' es mas eficiente que el 'while loop', pero no siempre.\n",
    "\n",
    "La idea detras del while loop:\n",
    "\n",
    "Mientras algo sea se cumpla, ejecuta lo siguiente:\n",
    "\n",
    "Un ejemplo sencillo:"
   ]
  },
  {
   "cell_type": "code",
   "execution_count": null,
   "metadata": {},
   "outputs": [],
   "source": [
    "# En este caso tenemos la variable 'condition' y empieza con el valor de 1.\n",
    "# A continuacion especificamos los terminos del while statement:\n",
    "# Mientras la condicion sea menor a 10 vamos a imprimir la variable condition\n",
    "# y vamos a sumar 1 en cada iteracion\n",
    "condition = 1\n",
    "\n",
    "while condition < 10:\n",
    "    print(condition)\n",
    "    condition += 1"
   ]
  },
  {
   "cell_type": "code",
   "execution_count": null,
   "metadata": {},
   "outputs": [],
   "source": [
    "# Un loop infinto\n",
    "while True:\n",
    "    print('doing stuff!!')"
   ]
  },
  {
   "cell_type": "markdown",
   "metadata": {},
   "source": [
    "### For loop\n",
    "El siguiente loop es el for loop. La idea del for loop es iterar algo. Es decir: por cada cosa ejecuta este codigo. Un ejemplo sencillo:"
   ]
  },
  {
   "cell_type": "code",
   "execution_count": null,
   "metadata": {},
   "outputs": [],
   "source": [
    "# Este codigo va a imprimir cada articulo en la lista\n",
    "exampleList = [1,5,6,6,2,1,5,2,1,4]\n",
    "\n",
    "for x in exampleList:\n",
    "    print(x)"
   ]
  },
  {
   "cell_type": "markdown",
   "metadata": {},
   "source": [
    "Una manera sencilla de entender los distintos caso de uso para cada loop es que en la mayoria de los casos el while loop se usa para tareas finitas y el for loop para tareas con temporalidad incierta o variable. El for loop se puede usar para las mismas tareas que un while loop.\n",
    "\n",
    "Otro ejemplo de uso para un for loop es una funcion generadora, las cuales son increiblemente eficientes, un ejemplo sencillo:"
   ]
  },
  {
   "cell_type": "code",
   "execution_count": null,
   "metadata": {},
   "outputs": [],
   "source": [
    "# Este ejemplo es parecido al ejemplo que usamos en el while loop,\n",
    "# Solo que este ejemplo es mucho mas rapido y eficiente\n",
    "for x in range(1,11):\n",
    "    print(x)"
   ]
  },
  {
   "cell_type": "markdown",
   "metadata": {},
   "source": [
    "### If statement\n",
    "Los if statements es una de las formas mas basicas de logica que puedes utilizar en tus programas. La idea detras de un if statement es evaluar si 'algo' cumple alguna condicion y de ser asi ejecutar el siguiente bloque de codigo, un ejemplo sencillo:"
   ]
  },
  {
   "cell_type": "code",
   "execution_count": null,
   "metadata": {},
   "outputs": [],
   "source": [
    "# Aqui definimos las variables x & y, luego 'preguntamos' si x es mayor a y \n",
    "# de ser asi vamos a imprimir 'x es mayor que y', de no ser asi no pasara nada\n",
    "x = 5\n",
    "y = 10\n",
    "\n",
    "if x > y:\n",
    "    print('x es mayor grande que y')"
   ]
  },
  {
   "cell_type": "code",
   "execution_count": null,
   "metadata": {},
   "outputs": [],
   "source": [
    "# Aqui definimos las variables x & y, luego 'preguntamos' si x es mayor a y \n",
    "# de ser asi vamos a imprimir 'x es menor que y', de no ser asi no pasara nada\n",
    "x = 5\n",
    "y = 10\n",
    "\n",
    "if x < y:\n",
    "    print('x es menor que y')"
   ]
  },
  {
   "cell_type": "markdown",
   "metadata": {},
   "source": [
    "### If-else statement\n",
    "El if-else statement esta disenado para construir sobre la logica del if statement. En este caso evaluamos si algo cumple alguna condicion y de ser asi se ejecuta el siguiente bloque de codigo. En caso de no ser asi se ejecuta otro bloque de codigo. Si el if statement es True, el else statement no se ejecutara. Si el if statement es False, entonces el else statement se ejecutara. Un ejemplo sencillo:"
   ]
  },
  {
   "cell_type": "code",
   "execution_count": null,
   "metadata": {},
   "outputs": [],
   "source": [
    "# Definimos x & y y luego preguntamos si x es mayor a 55\n",
    "# al no ser asi se ejecuta el else statement\n",
    "x = 5\n",
    "y = 8\n",
    "if x > 55:\n",
    "    print('x es mayor a 55')\n",
    "else:\n",
    "    print('x es menor a 55')"
   ]
  },
  {
   "cell_type": "code",
   "execution_count": null,
   "metadata": {},
   "outputs": [],
   "source": [
    "# Definimos x & y y luego preguntamos si x es menor a 55\n",
    "# al ser asi se ejecuta el if statement\n",
    "x = 5\n",
    "y = 8\n",
    "if x < 55:\n",
    "    print('x is less than 55')\n",
    "else:\n",
    "    print('x is not less than 55')"
   ]
  },
  {
   "cell_type": "markdown",
   "metadata": {},
   "source": [
    "Es importante hacer notar que el else statement solo aplica al mas reciente if statement. Puedes apilar varios if statements pero el else statemen solo dependera del if statement que este antes de este.\n",
    "\n",
    "### Elif statement\n",
    "Ahora exploremos el elif statement. El elif statement nos permite unir varios if statements como lo hubieramos intentado hacer si no supieramos que el else statement solo depende del ultimo if statement.\n",
    "\n",
    "El elif statement es un hibrido del else stament y el if statement, lo podemos entender de la siguiente manera:\n",
    "\n",
    "Evaluamos si algo cumple una condicion, de ser asi el elif statement y el else statement no se ejecutaran. De no ser asi el elif statement se ejecutara y 'cuestionara' la condicion en el if statement. Si es True se ejecutara y el else statement no. Si es False el else statement se ejecutara. Un ejemplo sencillo:"
   ]
  },
  {
   "cell_type": "code",
   "execution_count": null,
   "metadata": {},
   "outputs": [],
   "source": [
    "# Definimos x, y & z y evaluamos si x es mayor que y, al no ser asi se ejecuta el elif\n",
    "# y cuestiona si x es menor que z, en este caso es asi y el else statement no se ejecutara\n",
    "x = 5\n",
    "y = 10\n",
    "z = 22\n",
    "\n",
    "if x > y:\n",
    "    print('x es mayor que y')\n",
    "elif x < z:\n",
    "    print('x es menor que z')\n",
    "else:\n",
    "    print('if & elif nunca se ejecutaron...')"
   ]
  },
  {
   "cell_type": "code",
   "execution_count": null,
   "metadata": {},
   "outputs": [],
   "source": [
    "# Definimos x, y & z y evaluamos si x es mayor que y, al no ser asi se ejecuta el elif\n",
    "# y cuestiona si x es menor que z, en este caso es tampoco es asi y el else statement se ejecutara\n",
    "x = 5\n",
    "y = 10\n",
    "z = 22\n",
    "\n",
    "if x > y:\n",
    "    print('x es mayor que y')\n",
    "elif x > z:\n",
    "    print('x es mayor que z')\n",
    "else:\n",
    "    print('if & elif nunca se ejecutaron...')"
   ]
  },
  {
   "cell_type": "code",
   "execution_count": null,
   "metadata": {},
   "outputs": [],
   "source": []
  }
 ],
 "metadata": {
  "kernelspec": {
   "display_name": "Python 3",
   "language": "python",
   "name": "python3"
  },
  "language_info": {
   "codemirror_mode": {
    "name": "ipython",
    "version": 3
   },
   "file_extension": ".py",
   "mimetype": "text/x-python",
   "name": "python",
   "nbconvert_exporter": "python",
   "pygments_lexer": "ipython3",
   "version": "3.6.7"
  }
 },
 "nbformat": 4,
 "nbformat_minor": 1
}
