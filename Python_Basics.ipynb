{
 "cells": [
  {
   "cell_type": "markdown",
   "metadata": {
    "collapsed": true,
    "pycharm": {
     "is_executing": false
    }
   },
   "source": [
    "# Python: The Basics\n",
    "\n",
    "### Por que Python?\n",
    "Python es muy amigable para principiantes, para saber como instalar Python te recomendamos consultar nuestra [guia](). La sintaxis (palabras y estructura) es extremadamente simple de leer y seguir como lo podemos apreciar con el siguiente ejemplo:"
   ]
  },
  {
   "cell_type": "code",
   "execution_count": null,
   "metadata": {},
   "outputs": [],
   "source": [
    "SOAI = \"Python\", \"Jupyter Notebook\", \"Data Structures\", \"Algorithms\", \"Numpy\", \"Pandas\", \"Matplotlib\"\n",
    "\n",
    "for topic in SOAI:\n",
    "    print(topic)"
   ]
  },
  {
   "cell_type": "markdown",
   "metadata": {},
   "source": [
    "Python es un lenguaje de programación completamente funcional que puede hacer cualquier cosa que cualquier otro lenguaje puede hacer.\n",
    "\n",
    "La mayoría de los módulos de procesamiento de datos son en realidad 'wrappers' de Python alrededor del código C / C ++.\n",
    "\n",
    "Para hacer la labor de programar mas eficiente Python hace uso de modulos que son codigos de Python pre-escritos y listos para ser utlizados por desarrolladores como tu, la idea detras de estos modulos es hacer que el codigo que escribas sea lo mas limpio y eficiente posible. Como otros lenguejes de programacion Python incentiva el hacer uso del concepto de DRY, Don't Repeat Yourself.\n",
    "\n",
    "## Strings & funcion Print\n",
    "### Funcion Print\n",
    "La funcion 'print()'es una función que se envía a la ventana de la consola, independientemente de lo que diga que desea imprimir. Puede parecer que la función 'print()' es bastante inútil, pero en realidad es una de las funciones más utilizadas en Python. La razón de esto es que es una excelente herramienta de debugging.\n",
    "\n",
    "\"Debugging\" es el término dado al acto de buscar, eliminar y corregir errores y errores dentro del código. Si algo no está funcionando bien, puede usar la función de impresión para imprimir lo que está sucediendo en el programa.\n",
    "\n",
    "### Strings\n",
    "Los 'strings' son strings/cadenas de texto. Los strings son un tipo de datos. Otro tipo de datos son los integers. Un ejemplo simple:"
   ]
  },
  {
   "cell_type": "code",
   "execution_count": null,
   "metadata": {},
   "outputs": [],
   "source": [
    "print('Single Quotes')\n",
    "print(\"Double Quotes\")"
   ]
  },
  {
   "cell_type": "markdown",
   "metadata": {},
   "source": [
    "En el ejemplo anterior estamos imprimiendo un String, es importante que observes que podemos usar '' o \"\".\n",
    "\n",
    "Podemos usar la funcion print() para concatenar usando \"+\" o \",\" para concatenar Strings. Si usamos \",\" vamos a tener un espacion entre los strings que unimos. Si utlizamos \"+\" los Strings se van a unir sin espacio.\n",
    "\n",
    "Si usamos \"+\" para un integer y un float, se realizara una operacion aritmetica. Si utilizamos \",\" se van a imprimir por separado un un espacio entre ellos.\n",
    "\n",
    "Para unir Strings con Integers o Floats no puedes usar \"+\", tienes que usar \",\""
   ]
  },
  {
   "cell_type": "code",
   "execution_count": null,
   "metadata": {},
   "outputs": [],
   "source": [
    "print('Correcto',5)"
   ]
  },
  {
   "cell_type": "code",
   "execution_count": null,
   "metadata": {},
   "outputs": [],
   "source": [
    "print('Incorrecto:'+5)"
   ]
  },
  {
   "cell_type": "markdown",
   "metadata": {},
   "source": [
    "Es importante tener en cuenta como colocar las comillas dentro de los Strings. Puedes poner comillas dobles dentro de las cadenas, comillas sencillas dentro de dobles o usar la barra diagonal inversa \"\\\". \"\\\" es un caracter de escape, esto quiere decir que cuando lo usemos va a 'escapar' a la caracteristica del siguiete caracter y solo va a tomar el aspecto visual. Ejemplo:"
   ]
  },
  {
   "cell_type": "code",
   "execution_count": null,
   "metadata": {},
   "outputs": [],
   "source": [
    "print('Incorrecto's')"
   ]
  },
  {
   "cell_type": "code",
   "execution_count": null,
   "metadata": {},
   "outputs": [],
   "source": [
    "print('you\\'ll have success here')"
   ]
  },
  {
   "cell_type": "code",
   "execution_count": null,
   "metadata": {},
   "outputs": [],
   "source": [
    "print(\"you'll have success here too\")"
   ]
  },
  {
   "cell_type": "markdown",
   "metadata": {},
   "source": [
    "### Matematicas\n",
    "Las matematicas son un tema muy popular y eso hizo que sean muy sencillas de utlizar con Python."
   ]
  },
  {
   "cell_type": "code",
   "execution_count": null,
   "metadata": {},
   "outputs": [],
   "source": [
    "# Esto es una suma simple.\n",
    "1+3"
   ]
  },
  {
   "cell_type": "code",
   "execution_count": null,
   "metadata": {},
   "outputs": [],
   "source": [
    "# Esto es una multiplicacion simple\n",
    "4*4"
   ]
  },
  {
   "cell_type": "code",
   "execution_count": null,
   "metadata": {},
   "outputs": [],
   "source": [
    "# Esto es una resta simple.\n",
    "5-2"
   ]
  },
  {
   "cell_type": "code",
   "execution_count": null,
   "metadata": {},
   "outputs": [],
   "source": [
    "# Esto es una division simple \n",
    "5/2"
   ]
  },
  {
   "cell_type": "code",
   "execution_count": null,
   "metadata": {},
   "outputs": [],
   "source": [
    "# Esto es un exponencial simple\n",
    "4**4"
   ]
  },
  {
   "cell_type": "markdown",
   "metadata": {},
   "source": [
    "### Variables\n",
    "En casi todos los progrmas que escribas en Python vas a hacer uso de variables, que en terminos muy simples son 'placeholders'. Las variables ayudan a los programas a volverse mucho más dinámicos, y permiten que un programa siempre haga referencia a un valor en un punto, en lugar de que el programador tenga que escribirlo repetidamente o cambiarlo si deciden usar una definición diferente para él.\n",
    "\n",
    "Puedes nombrar a tus variables como quieras, es buena practica que no hangan conflicto con las funciones de tu programa y no podras asignar nombres reservados por Python al igual que no pueden comenzar con un numero. Debes tener cuidado al nombrar tus varianles, clases y funciones para evitar conflictos."
   ]
  },
  {
   "cell_type": "code",
   "execution_count": null,
   "metadata": {},
   "outputs": [],
   "source": [
    "# En este caso el 55 se va a imprimir\n",
    "varEjemplo = 55\n",
    "print(varEjemplo)"
   ]
  },
  {
   "cell_type": "code",
   "execution_count": null,
   "metadata": {},
   "outputs": [],
   "source": [
    "# Esto va a arrojar un error, necesitas poner comillas para que sea una variable valida\n",
    "malaVariable = Hey!"
   ]
  },
  {
   "cell_type": "code",
   "execution_count": null,
   "metadata": {},
   "outputs": [],
   "source": [
    "# Esta es una variable aceptable\n",
    "buenaVariable = 'Hola!'\n",
    "print(buenaVariable)"
   ]
  },
  {
   "cell_type": "code",
   "execution_count": null,
   "metadata": {},
   "outputs": [],
   "source": [
    "# Como podemos ver, se puede tener el resultado de una operacion dentro de una variable\n",
    "conOperaciones = 5/4\n",
    "print(conOperaciones)"
   ]
  },
  {
   "cell_type": "markdown",
   "metadata": {},
   "source": [
    "### While Loop\n",
    "Tenemos 2 Loops en Python:\n",
    "\n",
    "    - for loop\n",
    "    - while loop\n",
    "\n",
    "Ambos alcanzan resultados similares y se pueden usar, en la mayoria de los casos, para alcanzar el mismo resultado. Generalmente el 'for loop' es mas eficiente que el 'while loop', pero no siempre.\n",
    "\n",
    "La idea detras del while loop:\n",
    "\n",
    "Mientras algo sea se cumpla, ejecuta lo siguiente:\n",
    "\n",
    "Un ejemplo sencillo:"
   ]
  },
  {
   "cell_type": "code",
   "execution_count": null,
   "metadata": {},
   "outputs": [],
   "source": [
    "# En este caso tenemos la variable 'condition' y empieza con el valor de 1.\n",
    "# A continuacion especificamos los terminos del while statement:\n",
    "# Mientras la condicion sea menor a 10 vamos a imprimir la variable condition\n",
    "# y vamos a sumar 1 en cada iteracion\n",
    "condition = 1\n",
    "\n",
    "while condition < 10:\n",
    "    print(condition)\n",
    "    condition += 1"
   ]
  },
  {
   "cell_type": "code",
   "execution_count": null,
   "metadata": {},
   "outputs": [],
   "source": [
    "# Un loop infinto\n",
    "while True:\n",
    "    print('doing stuff!!')"
   ]
  },
  {
   "cell_type": "markdown",
   "metadata": {},
   "source": [
    "### For loop\n",
    "El siguiente loop es el for loop. La idea del for loop es iterar algo. Es decir: por cada cosa ejecuta este codigo. Un ejemplo sencillo:"
   ]
  },
  {
   "cell_type": "code",
   "execution_count": null,
   "metadata": {},
   "outputs": [],
   "source": [
    "# Este codigo va a imprimir cada articulo en la lista\n",
    "exampleList = [1,5,6,6,2,1,5,2,1,4]\n",
    "\n",
    "for x in exampleList:\n",
    "    print(x)"
   ]
  },
  {
   "cell_type": "markdown",
   "metadata": {},
   "source": [
    "Una manera sencilla de entender los distintos caso de uso para cada loop es que en la mayoria de los casos el while loop se usa para tareas finitas y el for loop para tareas con temporalidad incierta o variable. El for loop se puede usar para las mismas tareas que un while loop.\n",
    "\n",
    "Otro ejemplo de uso para un for loop es una funcion generadora, las cuales son increiblemente eficientes, un ejemplo sencillo:"
   ]
  },
  {
   "cell_type": "code",
   "execution_count": null,
   "metadata": {},
   "outputs": [],
   "source": [
    "# Este ejemplo es parecido al ejemplo que usamos en el while loop,\n",
    "# Solo que este ejemplo es mucho mas rapido y eficiente\n",
    "for x in range(1,11):\n",
    "    print(x)"
   ]
  },
  {
   "cell_type": "markdown",
   "metadata": {},
   "source": [
    "### If statement\n",
    "Los if statements es una de las formas mas basicas de logica que puedes utilizar en tus programas. La idea detras de un if statement es evaluar si 'algo' cumple alguna condicion y de ser asi ejecutar el siguiente bloque de codigo, un ejemplo sencillo:"
   ]
  },
  {
   "cell_type": "code",
   "execution_count": null,
   "metadata": {},
   "outputs": [],
   "source": [
    "# Aqui definimos las variables x & y, luego 'preguntamos' si x es mayor a y \n",
    "# de ser asi vamos a imprimir 'x es mayor que y', de no ser asi no pasara nada\n",
    "x = 5\n",
    "y = 10\n",
    "\n",
    "if x > y:\n",
    "    print('x es mayor grande que y')"
   ]
  },
  {
   "cell_type": "code",
   "execution_count": null,
   "metadata": {},
   "outputs": [],
   "source": [
    "# Aqui definimos las variables x & y, luego 'preguntamos' si x es mayor a y \n",
    "# de ser asi vamos a imprimir 'x es menor que y', de no ser asi no pasara nada\n",
    "x = 5\n",
    "y = 10\n",
    "\n",
    "if x < y:\n",
    "    print('x es menor que y')"
   ]
  },
  {
   "cell_type": "markdown",
   "metadata": {},
   "source": [
    "### If-else statement\n",
    "El if-else statement esta disenado para construir sobre la logica del if statement. En este caso evaluamos si algo cumple alguna condicion y de ser asi se ejecuta el siguiente bloque de codigo. En caso de no ser asi se ejecuta otro bloque de codigo. Si el if statement es True, el else statement no se ejecutara. Si el if statement es False, entonces el else statement se ejecutara. Un ejemplo sencillo:"
   ]
  },
  {
   "cell_type": "code",
   "execution_count": null,
   "metadata": {},
   "outputs": [],
   "source": [
    "# Definimos x & y y luego preguntamos si x es mayor a 55\n",
    "# al no ser asi se ejecuta el else statement\n",
    "x = 5\n",
    "y = 8\n",
    "if x > 55:\n",
    "    print('x es mayor a 55')\n",
    "else:\n",
    "    print('x es menor a 55')"
   ]
  },
  {
   "cell_type": "code",
   "execution_count": null,
   "metadata": {},
   "outputs": [],
   "source": [
    "# Definimos x & y y luego preguntamos si x es menor a 55\n",
    "# al ser asi se ejecuta el if statement\n",
    "x = 5\n",
    "y = 8\n",
    "if x < 55:\n",
    "    print('x is less than 55')\n",
    "else:\n",
    "    print('x is not less than 55')"
   ]
  },
  {
   "cell_type": "markdown",
   "metadata": {},
   "source": [
    "Es importante hacer notar que el else statement solo aplica al mas reciente if statement. Puedes apilar varios if statements pero el else statemen solo dependera del if statement que este antes de este.\n",
    "\n",
    "### Elif statement\n",
    "Ahora exploremos el elif statement. El elif statement nos permite unir varios if statements como lo hubieramos intentado hacer si no supieramos que el else statement solo depende del ultimo if statement.\n",
    "\n",
    "El elif statement es un hibrido del else stament y el if statement, lo podemos entender de la siguiente manera:\n",
    "\n",
    "Evaluamos si algo cumple una condicion, de ser asi el elif statement y el else statement no se ejecutaran. De no ser asi el elif statement se ejecutara y 'cuestionara' la condicion en el if statement. Si es True se ejecutara y el else statement no. Si es False el else statement se ejecutara. Un ejemplo sencillo:"
   ]
  },
  {
   "cell_type": "code",
   "execution_count": null,
   "metadata": {},
   "outputs": [],
   "source": [
    "# Definimos x, y & z y evaluamos si x es mayor que y, al no ser asi se ejecuta el elif\n",
    "# y cuestiona si x es menor que z, en este caso es asi y el else statement no se ejecutara\n",
    "x = 5\n",
    "y = 10\n",
    "z = 22\n",
    "\n",
    "if x > y:\n",
    "    print('x es mayor que y')\n",
    "elif x < z:\n",
    "    print('x es menor que z')\n",
    "else:\n",
    "    print('if & elif nunca se ejecutaron...')"
   ]
  },
  {
   "cell_type": "code",
   "execution_count": null,
   "metadata": {},
   "outputs": [],
   "source": [
    "# Definimos x, y & z y evaluamos si x es mayor que y, al no ser asi se ejecuta el elif\n",
    "# y cuestiona si x es menor que z, en este caso es tampoco es asi y el else statement se ejecutara\n",
    "x = 5\n",
    "y = 10\n",
    "z = 22\n",
    "\n",
    "if x > y:\n",
    "    print('x es mayor que y')\n",
    "elif x > z:\n",
    "    print('x es mayor que z')\n",
    "else:\n",
    "    print('if & elif nunca se ejecutaron...')"
   ]
  },
  {
   "cell_type": "markdown",
   "metadata": {},
   "source": [
    "### Functions\n",
    "Recordemos que la idea detras de una funcion es crear un segmento/pedazo de codigo y con variables/parametros, a veces, para asignar funciones o tareas especificas y no tener que escribirlas cada vez que queremos ejecutarlas de nuevo en diferentes partes de nuestros proyectos.\n",
    "\n",
    "En Python las funciones se comienzan a escribir con el keyword 'def' que le indica a Python que vamos a definir una funcion, luego le asignamos un nombre a la funcion, por salud mental siempre es mejor asignar un nombre unico a cada funcion que escribamos para evitar conflictos con otras funciones.\n",
    "\n",
    "En el siguiente ejemplo vamos a crear una funcion llamada 'miFuncion', luego de asignar el nombre tenemos que especificar los parametros de la funcion que funcionan como variables dentro de la funcion, cabe mencionar que no son obligatorios para que la funcion sea valida."
   ]
  },
  {
   "cell_type": "code",
   "execution_count": null,
   "metadata": {},
   "outputs": [],
   "source": [
    "def miFuncion():\n",
    "    print('Esta es una funcion de ejemplo!')\n",
    "    x = 2 + 2\n",
    "    print(x)"
   ]
  },
  {
   "cell_type": "markdown",
   "metadata": {},
   "source": [
    "Despues de que corremos la funcion observamos que no sucede nada, esto es porque tenemos que 'llamar' a la funcion para que se ejecute, lo unico que hicimos en la celda anterior fue definir la funcion y que es lo que hara. Para esto tenemos que hacer lo siguiente:"
   ]
  },
  {
   "cell_type": "code",
   "execution_count": null,
   "metadata": {},
   "outputs": [],
   "source": [
    "miFuncion()"
   ]
  },
  {
   "cell_type": "markdown",
   "metadata": {},
   "source": [
    "### Parametros de la Funcion\n",
    "La idea detras de los parametros de una funcion en Python es que el desarrollador que use la funcion pueda definir la variables de manera dinamica. Un ejemplo:"
   ]
  },
  {
   "cell_type": "code",
   "execution_count": null,
   "metadata": {},
   "outputs": [],
   "source": [
    "def suma(numero1,numero2):\n",
    "    respuesta = numero1 + numero2\n",
    "    print('el pimer numero es:', numero1)\n",
    "    print('el segundor numero es:', numero2)\n",
    "    print('el resultado de la suma es:', respuesta)\n",
    "\n",
    "suma(5,3)"
   ]
  },
  {
   "cell_type": "markdown",
   "metadata": {},
   "source": [
    "En el ejemplo anterior definimos nuestra funcion 'suma', dentro de la funcion definimos los parametros o 'params' (comunmente asi los encontraremos) espeficicamos las variables numero1 y numero 2.\n",
    "\n",
    "Luego dentro de la funcion creamos la variable respuesta que es igual a la suma de los dos parametros de la funcion, para darnos claridad de lo que esta pasando imprimimos el valor que se le asignara a cada parametro y al final imprimimos la respuesta.\n",
    "\n",
    "Para ejecutar esta funcion tenemos que hacer uso de los parametros de la siguiente manera: 'suma(5,3)'. Esto ejecuta 'suma' utilizando los parametros numero1=5, y numero2=3, luego el programa los suma e imprime el contenido de los parametros y luego imprimimos la 'respuesta'.\n",
    "\n",
    "No existe un limite para el numero de parametros que podemos asignar a nuestras funciones. Si queremos especificar las definiciones para cada uno de nuestro parametros sin 'llamarlos' espeficicamente debemos respetar el orden en el cual los pusimos en la definicion de la funcion, si por ejemplo tenemos una funcion con demasiados parametros y recordar el orden especifico es dificil podrias aplicar la siguiente:"
   ]
  },
  {
   "cell_type": "code",
   "execution_count": null,
   "metadata": {},
   "outputs": [],
   "source": [
    "suma(numero2=3,numero1=5)"
   ]
  },
  {
   "cell_type": "markdown",
   "metadata": {},
   "source": [
    "En el caso anterior cuando llamamos la funcion y definimos los parametros podemos observar que el orden de los parametros esta invertido pero estan especificados/asignados de manera individual, si no es asi tienes que respetar el orden para que la funcion se ejecute de manera adecuada, no quieres quebrar la empresa por una funcion que no puede hacer aritmetica basica de forma correcta. O si?\n",
    "\n",
    "Cabe mencionar que debes respetar el orden especifico siempre pero no puedes asignar parametros adicionales o menos parametros."
   ]
  },
  {
   "cell_type": "code",
   "execution_count": null,
   "metadata": {},
   "outputs": [],
   "source": [
    "suma(3,5,6)"
   ]
  },
  {
   "cell_type": "markdown",
   "metadata": {},
   "source": [
    "Lo anterior no jala, y lo siguiente tampoco:"
   ]
  },
  {
   "cell_type": "code",
   "execution_count": null,
   "metadata": {},
   "outputs": [],
   "source": [
    "suma(3)"
   ]
  },
  {
   "cell_type": "markdown",
   "metadata": {},
   "source": [
    "### Parametros de la Funcion(defaults)\n",
    "En el ejemplo anterior vimos como funcionan los parametros dentro de un funcion, la verdad es que podriamos tener u numero infinito de parametros en una funcion, pero hacer eso seria muy sucio y bastante tedioso, en especial cuando estamos trabajando en equipo.\n",
    "\n",
    "En ocasiones vamos a encontrar que hay funciones complejas que se pueden customizar de una manera muy sencilla, y es una cuestion de juicio propio decirdir si usarlas en su forma default o customizar. Cuando usamos los parametros con sus valores defualt, estos deben estar al final. Un ejemplo:"
   ]
  },
  {
   "cell_type": "code",
   "execution_count": null,
   "metadata": {},
   "outputs": [],
   "source": [
    "def simple(numero1, numero2=5):\n",
    "    pass"
   ]
  },
  {
   "cell_type": "markdown",
   "metadata": {},
   "source": [
    "Otro ejemplo:"
   ]
  },
  {
   "cell_type": "code",
   "execution_count": null,
   "metadata": {},
   "outputs": [],
   "source": [
    "def ventana_basica(width,height,font='TNR'):\n",
    "    # let us just print out everything\n",
    "    print(width,height,font)\n",
    "ventana_basica(350,500)"
   ]
  },
  {
   "cell_type": "markdown",
   "metadata": {},
   "source": [
    "Como podemos observar, cuando llamamos a la funcion no hubo necesidad de definir el tercer parametro"
   ]
  },
  {
   "cell_type": "code",
   "execution_count": null,
   "metadata": {},
   "outputs": [],
   "source": [
    "ventana_basica(350,500,font='courier')"
   ]
  },
  {
   "cell_type": "markdown",
   "metadata": {},
   "source": [
    "De igual manera podemos observar que a pesar de que un parametro de la funcion tiene un default lo podemos cambiar o customizar.\n",
    "\n",
    "### Variables Locales y Globales\n",
    "Uno de los problemas mas grandes que nos encontramos cuando estamos aprendiendo a programar y en especial cuado comenzamos a usar funciones es la inevitable cunfusion entre variables locales y globales.\n",
    "\n",
    "Estos conceptos sirven para diferenciar los alcances que las variables tienen dentro del programa. Una variables global se puede accesar en cualquier parte del programa. Mientras que una variable local solo se puede accesar dentro de su contexto/'frame'. Otra manera de verlo es que las variables globales pueden accederse localmente, pero no pueden modificarse localmente de forma inherente y las variables locales no se pueden accesar de manera gloabal de forma inherente. Unos ejemplos:"
   ]
  },
  {
   "cell_type": "code",
   "execution_count": null,
   "metadata": {},
   "outputs": [],
   "source": [
    "# la variable x no tiene una 'parent function', pero eso no la hacer una variable global.\n",
    "# lo que esta pasando es que esta asignada a la memoria antes de que llamemos a la funcion\n",
    "# es por ello que podriamos iterarla, llamarla pero hasta ahi.\n",
    "\n",
    "x = 1\n",
    "\n",
    "def ejemplo():\n",
    "    print(x)\n",
    "    # z es una variable local\n",
    "    z = 3\n",
    "    print(z)\n",
    "    \n",
    "ejemplo()\n",
    "\n",
    "# esta ultima parte del codigo arroja un NameError dado que z es una variable local\n",
    "# y no la podemos llamar de manera global como lo pudimos hacer con x\n",
    "\n",
    "print(z)"
   ]
  },
  {
   "cell_type": "markdown",
   "metadata": {},
   "source": [
    "Otro ejemplo:"
   ]
  },
  {
   "cell_type": "code",
   "execution_count": null,
   "metadata": {},
   "outputs": [],
   "source": [
    "x = 6\n",
    "\n",
    "def ejemplo2():\n",
    "    # Todo bien hasta aqui...\n",
    "    print(x)\n",
    "    print(x+5)\n",
    "\n",
    "    # pero si queremos modificar x...\n",
    "    x+=6\n",
    "\n",
    "    # al intentar sumarle 6 a x nos arroja un UnboundLocalError \n",
    "    # dado que estamos haciendo referencia a la variable antes de asignarla\n",
    "    \n",
    "ejemplo2()"
   ]
  },
  {
   "cell_type": "code",
   "execution_count": null,
   "metadata": {},
   "outputs": [],
   "source": [
    "x = 6\n",
    "\n",
    "def ejemplo3():\n",
    "    # al utiliza global podemos modificar x dentro de nuesta funcion\n",
    "    global x\n",
    "    \n",
    "    print(x)\n",
    "    x+=5\n",
    "    print(x)\n",
    "\n",
    "ejemplo3()"
   ]
  },
  {
   "cell_type": "markdown",
   "metadata": {},
   "source": [
    "Pero que tal si no quieres usar global cada vez que te encuentres con este inconveniente..."
   ]
  },
  {
   "cell_type": "code",
   "execution_count": null,
   "metadata": {},
   "outputs": [],
   "source": [
    "x = 6\n",
    "\n",
    "def ejemplo4():\n",
    "    # lo hacemos mediante una variable local\n",
    "    globx = x\n",
    "    print(globx)\n",
    "    globx+=5\n",
    "    print(globx)\n",
    "    \n",
    "ejemplo4()"
   ]
  },
  {
   "cell_type": "markdown",
   "metadata": {},
   "source": [
    "Igual podemos:"
   ]
  },
  {
   "cell_type": "code",
   "execution_count": null,
   "metadata": {},
   "outputs": [],
   "source": [
    "x = 6\n",
    "def ejemplo(x):\n",
    " \n",
    "    print(x)\n",
    "    x+=5\n",
    "    print(x)\n",
    "    return x\n",
    " \n",
    "x = ejemplo(x)\n",
    "print(x)"
   ]
  },
  {
   "cell_type": "markdown",
   "metadata": {},
   "source": [
    "En el ejemplo anterior hemos hecho que la funcion modifique x, el claro inconveniente es el uso de x en diferentes lugares lo cual puede ser 'confuso', asi que podriamos:"
   ]
  },
  {
   "cell_type": "code",
   "execution_count": null,
   "metadata": {},
   "outputs": [],
   "source": [
    "x = 6\n",
    "def ejemplo(modificar):\n",
    " \n",
    "    print(modificar)\n",
    "    modificar+=5\n",
    "    print(modificar)\n",
    "    return modificar\n",
    " \n",
    "x = ejemplo(x)\n",
    "print(x)"
   ]
  },
  {
   "cell_type": "markdown",
   "metadata": {},
   "source": [
    "Como podemos observar hemos puesto el parametro 'modificar' en nuestra funcion en donde vamos a modificar cualquier variable que 'pasemos' por la funcion, solo necesitamos reasignar la variable que queremos modificar como un parametro y listo!\n",
    "\n",
    "### Instalando Modulos\n",
    "Hasta ahora hemos podido estudiar Python sin tener que hacer instalacion de modulos adicionales de Python. Dicho esto ha llegado la hora de instalar modulos.\n",
    "\n",
    "Como siempre Linux hace que todo en la vida de un desarrollador sea hermoso, y usar Python no es la excepcion, como cualquiera de ustedes lo puede averiguar, instalar modulos de Python en Linux es muy facil. Cuando hacemos un 'import' dentro de nuestro codigo, Python busca el modulo a importar dentro de 'site-packages'. En las dark ages de Python 2.7 instalar modulos podria ser un poco mas laborioso, pero hoy en dia haremos uso de pip.\n",
    "\n",
    "En la terminal y dentro de nuestro ambiente vitual podemos:\n",
    "\n",
    "    pip install pandas\n",
    "    pip install matplolib\n",
    "\n",
    "Lo anterior instala la ultima version de los modulos disponibles de pyhton, si queremos instalar una version especifica:\n",
    "\n",
    "    pip install pandas==0.23.4\n",
    "    pip install matplotlib==3.0.0\n",
    "\n",
    "Si tenemos un 'custom build' de algun modulo lo podemos instalar asi:\n",
    "\n",
    "    pip install SomePackage-1.0-py2.py3-none-any.whl\n",
    "\n",
    "Para saber cuales de nuestro modulos ya estan viejitos:\n",
    "\n",
    "    pip list --outdated\n",
    "\n",
    "Para actualizar algun modulo:\n",
    "\n",
    "    pip install --upgrade SomePackage\n",
    "\n",
    "Para desinstalar algun modulo:\n",
    "\n",
    "    pip uninstall SomePackage\n",
    "### Errores mas comunes un Python\n",
    "Parte de la vida de cualquier desarrollador conlleva hacer debugging. En el caso de Python los errores de principiante mas comunos son typos y errores de indentacion. Recordemos que Python tiene estandares para que puedas organizar tu codigo de la mejor manera posible. En Python a diferencia de otros lenguajes de programacion definimos bloques de codigo como funciones mediante la indentacion. La mayoria de los editores decentes van a indentar de manera automatica los bloques.\n",
    "\n",
    "Comencemos con erroes comunes en Python..."
   ]
  },
  {
   "cell_type": "code",
   "execution_count": null,
   "metadata": {},
   "outputs": [],
   "source": [
    "variable = 55\n",
    "print(varaible)"
   ]
  },
  {
   "cell_type": "markdown",
   "metadata": {},
   "source": [
    "Como podemos observar arriba este error es: NameError: is not defined. El error radica en un typo dentro de la funcion print(), la clave de corregir este error esta en 'is not defined.'"
   ]
  },
  {
   "cell_type": "code",
   "execution_count": null,
   "metadata": {},
   "outputs": [],
   "source": [
    "def task1():\n",
    "def task2():\n",
    "    print('algo')"
   ]
  },
  {
   "cell_type": "markdown",
   "metadata": {},
   "source": [
    "Como podemos observar arriba, Python nos dice que esperaba que la siguiente linea despues de definir la funcion tuviera indentacion."
   ]
  },
  {
   "cell_type": "code",
   "execution_count": null,
   "metadata": {},
   "outputs": [],
   "source": [
    "def task():\n",
    "    print ('stuff')\n",
    "\n",
    "print('more stuff')\n",
    "\n",
    "    print('stuff')"
   ]
  },
  {
   "cell_type": "markdown",
   "metadata": {},
   "source": [
    "Como podemos observar arriba, Python nos dice que hay una indentacion inesperada."
   ]
  },
  {
   "cell_type": "code",
   "execution_count": null,
   "metadata": {},
   "outputs": [],
   "source": [
    "def task():\n",
    "    print('some people find themselves committing this too\n",
    "\n",
    "\n",
    "    print('ouch...')"
   ]
  },
  {
   "cell_type": "markdown",
   "metadata": {},
   "source": [
    "Como podemos observar arriba, Python nos dice que tenemos un error de Suntaxis, esto sucedio por que no cerramos el string y el parentesis de la funcion print() y nos arrojo un EOL \"End Of Line\".\n",
    "\n",
    "### Escribiendo un archivo con Python\n",
    "Con Python podemos escribir un archivo de una manera muy sencilla, tenemos que distinguir los dos metodos para escribir un archivo, 'writting' y 'appending'\n",
    "\n",
    "'writting' va a crear un archivo y escribira lo que le indiquemos\n",
    "\n",
    "'appending' va a sumar al contenido de un archivo."
   ]
  },
  {
   "cell_type": "code",
   "execution_count": null,
   "metadata": {},
   "outputs": [],
   "source": [
    "text = 'Un ejejmplo aqui\\nSiguiente linea del ejemplo!'\n",
    "\n",
    "# aqui le estamos diciendo a Python que abriremos un archivo y que vamos a escribir\n",
    "saveFile = open('./data/archivoEjemplo.txt','w')\n",
    "\n",
    "# se escribe la informacion\n",
    "saveFile.write(text)\n",
    "\n",
    "# Es importante cerrar el archivo, de otro modo puede causar problemas en nuestro codigo\n",
    "saveFile.close()"
   ]
  },
  {
   "cell_type": "markdown",
   "metadata": {},
   "source": [
    "Ahora hagamos appending, recordemos que writing borrara el contenido del archivo y escribira lo que se le indique, appending sumara al contenido existente.\n",
    "\n",
    "Para esto tambien usaremos '.write' solo que especificaremos el appending con 'a'"
   ]
  },
  {
   "cell_type": "code",
   "execution_count": null,
   "metadata": {},
   "outputs": [],
   "source": [
    "appendMe = '\\nInformacion adicional'\n",
    "\n",
    "appendFile = open('./data/archivoEjemplo.txt','a')\n",
    "appendFile.write(appendMe)\n",
    "appendFile.close()"
   ]
  },
  {
   "cell_type": "markdown",
   "metadata": {},
   "source": [
    "### Leyendo un archivo\n",
    "Una vez que podemos escribir y anadir archivos, tenemos que saber como leer archivos, y afortunadamente es bastante sencillo."
   ]
  },
  {
   "cell_type": "code",
   "execution_count": null,
   "metadata": {},
   "outputs": [],
   "source": [
    "# como podemos ver aqui usamos 'r' para leer el archivo\n",
    "readMe = open('./data/archivoEjemplo.txt','r').read()\n",
    "print(readMe)"
   ]
  },
  {
   "cell_type": "markdown",
   "metadata": {},
   "source": [
    "A veces queremos leer algo con muchas lineas, si usamos 'readlines()' para ayudarnos crear una lista."
   ]
  },
  {
   "cell_type": "code",
   "execution_count": null,
   "metadata": {},
   "outputs": [],
   "source": [
    "# va a leer el archivo a manera de lista \n",
    "readMe = open('./data/archivoEjemplo.txt','r').readlines()\n",
    "print(readMe)"
   ]
  },
  {
   "cell_type": "markdown",
   "metadata": {},
   "source": [
    "### Clases\n",
    "En Python las clases las podemos entender como grupos de funciones y son el centro de la programacion orientada a objetos. Veamos un ejemplo:"
   ]
  },
  {
   "cell_type": "code",
   "execution_count": null,
   "metadata": {},
   "outputs": [],
   "source": [
    "class calculadora:\n",
    "    \n",
    "    def suma(x,y):\n",
    "        added = x + y\n",
    "        print(added)\n",
    "        \n",
    "    def resta(x,y):\n",
    "        sub = x - y\n",
    "        print(sub)\n",
    "\n",
    "    def multiplicacion(x,y):\n",
    "        mult = x * y\n",
    "        print(mult)\n",
    "\n",
    "    def division(x,y):\n",
    "        div = x / y\n",
    "        print(div)"
   ]
  },
  {
   "cell_type": "code",
   "execution_count": null,
   "metadata": {},
   "outputs": [],
   "source": [
    "calculadora.resta(5,8)"
   ]
  },
  {
   "cell_type": "code",
   "execution_count": null,
   "metadata": {},
   "outputs": [],
   "source": [
    "calculadora.multiplicacion(3,5)"
   ]
  },
  {
   "cell_type": "code",
   "execution_count": null,
   "metadata": {},
   "outputs": [],
   "source": [
    "calculadora.division(5,3)"
   ]
  },
  {
   "cell_type": "code",
   "execution_count": null,
   "metadata": {},
   "outputs": [],
   "source": [
    "calculadora.suma(5,2)"
   ]
  },
  {
   "cell_type": "markdown",
   "metadata": {},
   "source": [
    "### Input basico de usuarios"
   ]
  },
  {
   "cell_type": "code",
   "execution_count": null,
   "metadata": {},
   "outputs": [],
   "source": [
    "x = input('Como te llamas?: ')\n",
    "print('Hola',x)"
   ]
  },
  {
   "cell_type": "markdown",
   "metadata": {},
   "source": [
    "### Estadistica\n",
    "Dado que Python es un lenguaje de programacion muy popular para el analisis de datos es obvio que tiene un modulo de estadistica que incluye todo lo necesario para hacer analisis estadisticos de datos. Un ejemplo:"
   ]
  },
  {
   "cell_type": "code",
   "execution_count": null,
   "metadata": {},
   "outputs": [],
   "source": [
    "import statistics\n",
    "\n",
    "lista_ejemplo = [5,2,5,6,1,2,6,7,2,6,3,5,5]\n",
    "\n",
    "x = statistics.mean(lista_ejemplo)\n",
    "print('Mean: ', x)\n",
    "\n",
    "y = statistics.median(lista_ejemplo)\n",
    "print('Median: ', y)\n",
    "\n",
    "z = statistics.mode(lista_ejemplo)\n",
    "print('Mode: ', z)\n",
    "\n",
    "a = statistics.stdev(lista_ejemplo)\n",
    "print('stdev: ', a)\n",
    "\n",
    "b = statistics.variance(lista_ejemplo)\n",
    "print('Variance: ', b)"
   ]
  },
  {
   "cell_type": "markdown",
   "metadata": {},
   "source": [
    "Como puedes observar es tan sencillo como pasar la lista por una funcion del modulo para obtener el resultado deseado, en nuestro caso estamos guardando el resultado dentro de una variable para poderla imprimir.\n",
    "\n",
    "Si queremos que nuestro codigo este mas limpio podemos jugar con la sytaxis para hacer importaciones"
   ]
  },
  {
   "cell_type": "code",
   "execution_count": null,
   "metadata": {},
   "outputs": [],
   "source": [
    "import statistics as s\n",
    "from statistics import mean as m\n",
    "from statistics import mean as m, median as d\n",
    "\n",
    "print(s.mean(lista_ejemplo))\n",
    "print(m(lista_ejemplo))\n",
    "print(m(lista_ejemplo))\n",
    "print(d(lista_ejemplo))"
   ]
  },
  {
   "cell_type": "markdown",
   "metadata": {},
   "source": [
    "Que tal si queremos importar todos los contenidos y tener un codigo mas limpio, en ese caso hacemos:"
   ]
  },
  {
   "cell_type": "code",
   "execution_count": null,
   "metadata": {},
   "outputs": [],
   "source": [
    "from statistics import *\n",
    "\n",
    "print(mean(lista_ejemplo))"
   ]
  },
  {
   "cell_type": "markdown",
   "metadata": {},
   "source": [
    "### Listas vs Tupples\n",
    "Vamos a entender las diferencias entre listas y tupples en Python, aunque no lo puedas creer se confunden muy seguido dado que son 'similares' pero en la realidad no pueden ser mas diferentes.\n",
    "\n",
    "Una lista es una 'seleccion' de datos, separados por comas, dentro de corchetes, a los cuales podemos agregar, quitar y cambiar datos.\n",
    "\n",
    "Un tupple es una 'seleccion' de datos, sepados por comas, dentro de parentesis, pero a diferencia de las listas, lo tupples son inmutables. Esto quiere decir que no se pueden cambiar, modificar o manipular. Es juto por esta propiedad que son muy populares. Un unso muy comun de los tupples es unpacking de secuencias de datos. Un ejemplo:"
   ]
  },
  {
   "cell_type": "code",
   "execution_count": null,
   "metadata": {},
   "outputs": [],
   "source": [
    "#Lista \n",
    "lista = [1,2,3,4,5]\n",
    "\n",
    "# Tupple\n",
    "tupple = (1,2,3,4,5)"
   ]
  },
  {
   "cell_type": "code",
   "execution_count": null,
   "metadata": {},
   "outputs": [],
   "source": [
    "# Podemos usar len en ambos casos\n",
    "\n",
    "print('lista:', len(lista))\n",
    "print('tupple: ', len(tupple))\n"
   ]
  },
  {
   "cell_type": "code",
   "execution_count": null,
   "metadata": {},
   "outputs": [],
   "source": [
    "# Podemos iterar en ambos\n",
    "\n",
    "for l in lista:\n",
    "    print('lista: ', l)\n",
    "    \n",
    "for t in tupple:\n",
    "    print('tupple: ', t)"
   ]
  },
  {
   "cell_type": "code",
   "execution_count": null,
   "metadata": {},
   "outputs": [],
   "source": [
    "# Y entonces cual es la diferencia?\n",
    "# Vamos a ver cuales metodos tienen disponibles cada uno\n",
    "\n",
    "print('Metodos lista: ', dir(lista))\n",
    "print(120*'-')\n",
    "print('Metodos tupple: ', dir(tupple))"
   ]
  },
  {
   "cell_type": "markdown",
   "metadata": {},
   "source": [
    "Como podemos ver, las listas tienen mas metodos disponibles, pero esto que significa? En terminos simples esto significa que las listas ocupan mas memoria que los tupples. Vamos a avergiarlo\n",
    "\n"
   ]
  },
  {
   "cell_type": "code",
   "execution_count": null,
   "metadata": {},
   "outputs": [],
   "source": [
    "import sys\n",
    "\n",
    "print('Tamano lista: ', sys.getsizeof(lista))\n",
    "print('Tamano tupple: ', sys.getsizeof(tupple))"
   ]
  },
  {
   "cell_type": "markdown",
   "metadata": {},
   "source": [
    "Como podemos comprobar, la lista ocupa mas espacio que un tupple y cuando trabajamos con un dataset grande esto puede hacer toda la diferencia en terminos de eficiencia. Vemos un ejemplo:"
   ]
  },
  {
   "cell_type": "code",
   "execution_count": null,
   "metadata": {},
   "outputs": [],
   "source": [
    "# Usando el modulo timeit vamos a medir cuanto tiempo toma crear 100 millones de listas y 100 millones de tupples\n",
    "import timeit\n",
    "\n",
    "tiempo_lista = timeit.timeit(stmt='[1,2,3,4,5]', number=100000000)\n",
    "tiempo_tupple = timeit.timeit(stmt='(1,2,3,4,5)', number=100000000)\n",
    "\n",
    "print('Tiempo_lista: ', tiempo_lista)\n",
    "print('Tiempo_tupple: ', tiempo_tupple)"
   ]
  },
  {
   "cell_type": "markdown",
   "metadata": {},
   "source": [
    "Trabajemos con mas tupples"
   ]
  },
  {
   "cell_type": "code",
   "execution_count": null,
   "metadata": {},
   "outputs": [],
   "source": [
    "tupple_vacio = ()\n",
    "tupple_1 = ('1')\n",
    "tupple_2 = ('1', '2')\n",
    "tupple_3 = ('1', '2', '3')\n",
    "\n",
    "print(tupple_vacio)\n",
    "print(tupple_1)\n",
    "print(tupple_2)\n",
    "print(tupple_3)"
   ]
  },
  {
   "cell_type": "markdown",
   "metadata": {},
   "source": [
    "Puedes ver el error? Como lo corregirias?"
   ]
  },
  {
   "cell_type": "code",
   "execution_count": null,
   "metadata": {},
   "outputs": [],
   "source": [
    "# Otro modo de hacer tuples\n",
    "\n",
    "tupple_11 = 1,\n",
    "tupple_22 = 1, 2\n",
    "tupple_33 = 1, 2, 3\n",
    "\n",
    "print(tupple_11)\n",
    "print(tupple_22)\n",
    "print(tupple_33)\n",
    "\n",
    "# Como se si son tupples\n",
    "\n",
    "print(type(tupple_11))\n",
    "print(type(tupple_22))\n",
    "print(type(tupple_33))"
   ]
  },
  {
   "cell_type": "code",
   "execution_count": null,
   "metadata": {},
   "outputs": [],
   "source": [
    "# Listas vs tupples ejemplo\n",
    "\n",
    "encuesta1 = (18, 'Mexico', 'H')\n",
    "\n",
    "edad = encuesta1[0]\n",
    "pais = encuesta1[1]\n",
    "genero = encuesta1[2]\n",
    "\n",
    "print('Edad :', edad)\n",
    "print('Pais: ', pais)\n",
    "print('Genero: ', genero)"
   ]
  },
  {
   "cell_type": "code",
   "execution_count": null,
   "metadata": {},
   "outputs": [],
   "source": [
    "encuesta2 = (21, 'Mexico', 'M')\n",
    "edad, pais, genero = encuesta2\n",
    "\n",
    "print('Edad :', edad)\n",
    "print('Pais: ', pais)\n",
    "print('Genero: ', genero)"
   ]
  },
  {
   "cell_type": "code",
   "execution_count": null,
   "metadata": {},
   "outputs": [],
   "source": [
    "# Por que los tupples de un elemento pueden confundirse sin una coma al final con un string\n",
    "\n",
    "# Si hacemos esto, estamos asignando el valor a una variable\n",
    "pais=('Mexico')\n",
    "print(type(pais))\n",
    "# Si hacemos esto estamos creando un tupple de un solo elemento\n",
    "pais1=('Mexico', )\n",
    "print(type(pais1))"
   ]
  },
  {
   "cell_type": "markdown",
   "metadata": {},
   "source": [
    "Es importante que el numero de variables sea identico al numero de elementos detro del tupple.\n",
    "\n",
    "### Manipulacion de listas\n",
    "En Python al igual que podemos crear listas, tambien las podemos manipular ya sea insertando, quitando, encontrando, contando, ordenando y revirtiendo el contenido de las mismas. Recordemos que a diferencia de los tupples, las listas son mutables. Un ejemplo:"
   ]
  },
  {
   "cell_type": "code",
   "execution_count": null,
   "metadata": {},
   "outputs": [],
   "source": [
    "# una lista de ejemplo\n",
    "x = [1,6,3,2,6,1,2,6,7]"
   ]
  },
  {
   "cell_type": "code",
   "execution_count": null,
   "metadata": {},
   "outputs": [],
   "source": [
    "# append para insertar datos al final de la lista\n",
    "x.append(55)\n",
    "print(x)"
   ]
  },
  {
   "cell_type": "markdown",
   "metadata": {},
   "source": [
    "Podemos observar que al igual que en un documento, la funcion append() inserta contenido al final del texto previo. Que tal si queremos insertar en un lugar especifico?"
   ]
  },
  {
   "cell_type": "code",
   "execution_count": null,
   "metadata": {},
   "outputs": [],
   "source": [
    "x.insert(2,33)\n",
    "print(x)"
   ]
  },
  {
   "cell_type": "markdown",
   "metadata": {},
   "source": [
    "Como podemos ver insertamos el numero 33 en el lugar 2(tercer lugar dado que se cuenta desde 0). Ahora vamos a usar remove() para quitar datos."
   ]
  },
  {
   "cell_type": "code",
   "execution_count": null,
   "metadata": {},
   "outputs": [],
   "source": [
    "x.remove(6)\n",
    "print(x)"
   ]
  },
  {
   "cell_type": "markdown",
   "metadata": {},
   "source": [
    "Como podemos ver hemos eliminado el numero 6 de la lista, si quermos eliminar un digito que no existe en la lista nos marcara el siguiente error"
   ]
  },
  {
   "cell_type": "code",
   "execution_count": null,
   "metadata": {},
   "outputs": [],
   "source": [
    "x.remove(120)\n",
    "print(x)"
   ]
  },
  {
   "cell_type": "markdown",
   "metadata": {},
   "source": [
    "Si queremos eliminar via el indice o 'lugar' que un objeto ocupa en la lista podemos usar del:"
   ]
  },
  {
   "cell_type": "code",
   "execution_count": null,
   "metadata": {},
   "outputs": [],
   "source": [
    "del x[7]\n",
    "print(x)"
   ]
  },
  {
   "cell_type": "markdown",
   "metadata": {},
   "source": [
    "Para referencias un objeto via el indice:"
   ]
  },
  {
   "cell_type": "code",
   "execution_count": null,
   "metadata": {},
   "outputs": [],
   "source": [
    "print(x[1])"
   ]
  },
  {
   "cell_type": "code",
   "execution_count": null,
   "metadata": {},
   "outputs": [],
   "source": [
    "print(x.index(1))"
   ]
  },
  {
   "cell_type": "markdown",
   "metadata": {},
   "source": [
    "Como podemos ver se imprime el indice del numero 1 en este caso 0 pero de igual manera tenemos otro 1 en la lista, en casos como estos vale la pena contar cuantos numero 1 tenemos en nustra lista"
   ]
  },
  {
   "cell_type": "code",
   "execution_count": null,
   "metadata": {},
   "outputs": [],
   "source": [
    "print(x.count(1))"
   ]
  },
  {
   "cell_type": "markdown",
   "metadata": {},
   "source": [
    "Si queremos ordenar una lista podemos hacer:"
   ]
  },
  {
   "cell_type": "code",
   "execution_count": null,
   "metadata": {},
   "outputs": [],
   "source": [
    "x.sort()\n",
    "print(x)"
   ]
  },
  {
   "cell_type": "code",
   "execution_count": null,
   "metadata": {},
   "outputs": [],
   "source": [
    "x.reverse()\n",
    "print(x)"
   ]
  },
  {
   "cell_type": "markdown",
   "metadata": {},
   "source": [
    "De igual manera lo podemos lograr asi:"
   ]
  },
  {
   "cell_type": "code",
   "execution_count": null,
   "metadata": {},
   "outputs": [],
   "source": [
    "x.sort(reverse=False)\n",
    "print(x)\n",
    "x.sort(reverse=True)\n",
    "print(x)"
   ]
  },
  {
   "cell_type": "markdown",
   "metadata": {},
   "source": [
    "### Listas multidimensionales\n",
    "Las listas multidimensionales son basicamente listas dentro de listas, rara vez encontraras en el mundo real un script que haga uso de ellas, los diccionarios son una mejor opcion."
   ]
  },
  {
   "cell_type": "code",
   "execution_count": null,
   "metadata": {},
   "outputs": [],
   "source": [
    "x = [[2,6],[6,2],[8,2],[5,12]]\n",
    "print(x[2])"
   ]
  },
  {
   "cell_type": "code",
   "execution_count": null,
   "metadata": {},
   "outputs": [],
   "source": [
    "# vamos a imprimir el segundo elemento dentro de la tercera lista\n",
    "print(x[2][1])"
   ]
  },
  {
   "cell_type": "code",
   "execution_count": null,
   "metadata": {},
   "outputs": [],
   "source": [
    "# En caso de que quieras hacer uso de listas multidimensionales es mejor presentarlas de este modo\n",
    "y = [[5,2],\n",
    "     [6,2],\n",
    "     [3,1],\n",
    "     [12,6]\n",
    "    ]"
   ]
  },
  {
   "cell_type": "code",
   "execution_count": null,
   "metadata": {},
   "outputs": [],
   "source": [
    "print(y)"
   ]
  },
  {
   "cell_type": "markdown",
   "metadata": {},
   "source": [
    "### Leyendo un CSV\n",
    "Un archivo CSV(Comma Separated Value) es un tipo de archivo muy comun cuando estamos trabajando con Python, la coma se conoce como 'delimiter'. Un par de ejemplos:"
   ]
  },
  {
   "cell_type": "code",
   "execution_count": null,
   "metadata": {},
   "outputs": [],
   "source": [
    "# ejemplo simple de como leer un csv hacia la memoria\n",
    "import csv\n",
    "\n",
    "with open('./data/ejemplo.csv') as csvfile:\n",
    "    readCSV = csv.reader(csvfile, delimiter=',')\n",
    "    for row in readCSV:\n",
    "        print(row)\n",
    "        print(row[0])\n",
    "        print(row[0],row[1],row[2],row[3])"
   ]
  },
  {
   "cell_type": "markdown",
   "metadata": {},
   "source": [
    "Como podemos observar leimos el archivo csv e iteramos e imprimios el contenido de todas sus filas."
   ]
  },
  {
   "cell_type": "code",
   "execution_count": null,
   "metadata": {},
   "outputs": [],
   "source": [
    "with open('./data/ejemplo.csv') as csvfile:\n",
    "    readCSV = csv.reader(csvfile, delimiter=',')\n",
    "    dates = []\n",
    "    colors = []\n",
    "    for row in readCSV:\n",
    "        color = row[3]\n",
    "        date = row[0]\n",
    "\n",
    "        dates.append(date)\n",
    "        colors.append(color)\n",
    "\n",
    "    print(dates)\n",
    "    print(colors)"
   ]
  },
  {
   "cell_type": "markdown",
   "metadata": {},
   "source": [
    "Aqui agregamos el contenido del archivo csv a una variable. Que podriamos hacer con un archivo csv:"
   ]
  },
  {
   "cell_type": "code",
   "execution_count": null,
   "metadata": {},
   "outputs": [],
   "source": [
    "with open('./data/ejemplo.csv') as csvfile:\n",
    "    readCSV = csv.reader(csvfile, delimiter=',')\n",
    "    dates = []\n",
    "    colors = []\n",
    "    for row in readCSV:\n",
    "        color = row[3]\n",
    "        date = row[0]\n",
    "\n",
    "        dates.append(date)\n",
    "        colors.append(color)\n",
    "\n",
    "    print(dates)\n",
    "    print(colors)\n",
    "\n",
    "    # recordemos las listas\n",
    "\n",
    "    whatColor = input('Escoge un color para saber la fecha:')\n",
    "    coldex = colors.index(whatColor)\n",
    "    theDate = dates[coldex]\n",
    "    print('La fecha del',whatColor,'es:',theDate)"
   ]
  },
  {
   "cell_type": "markdown",
   "metadata": {},
   "source": [
    "### Manejo de errores con Try y con Except\n",
    "Try y Except existen para manejar errores en Python, los podemos entender como un if-else statement en donde si usamos Try el segmento de codigo se ejecutara, y el Except no. Ambas opciones se usan para el manejo de errores en nuestro codigo.\n",
    "\n",
    "Ahora que ya sabemos que tenemos esta posibilidad tenemos que aprender a manejar errores en Ptyhon. Como lo hemos visto en sesiones anteriores si no tenemos manejo de errores en nuestro script, cuando ocurre un error, este deja de correr. En el mundo real esto se debe evitar a toda costa, en especial si tu codigo ya esta en produccion. Asi que vamos con un ejemplo:"
   ]
  },
  {
   "cell_type": "code",
   "execution_count": null,
   "metadata": {},
   "outputs": [],
   "source": [
    "import csv\n",
    "\n",
    "with open('./data/ejemplo.csv') as csvfile:\n",
    "    readCSV = csv.reader(csvfile, delimiter=',')\n",
    "    dates = []\n",
    "    colors = []\n",
    "    for row in readCSV:\n",
    "        color = row[3]\n",
    "        date = row[0]\n",
    "\n",
    "        dates.append(date)\n",
    "        colors.append(color)\n",
    "\n",
    "    print(dates)\n",
    "    print(colors)\n",
    "    \n",
    "    try:\n",
    "        whatColor = input('Escoge un color para saber la fecha:')\n",
    "\n",
    "        if whatColor in colors:\n",
    "            coldex = colors.index(whatColor)\n",
    "            theDate = dates[coldex]\n",
    "            print('La fecha del',whatColor,'es:',theDate)\n",
    "        else:\n",
    "            print('Ese color no esta en la lista.')\n",
    "\n",
    "    except Exception as e:\n",
    "        print(e)"
   ]
  },
  {
   "cell_type": "markdown",
   "metadata": {},
   "source": [
    "### Diccionarios\n",
    "Los diccionarios son estructuras de datos en Python que son similares a matrices de asociacion. No tienen un orden en especifico y contienen claves y valores. Cada clave es unica y los valores pueden ser cualquier cosa aunque usualmente son strings, int, floats o una lista de todas las anteriores.\n",
    "\n",
    "Los diccionarios estan definidos con {}."
   ]
  },
  {
   "cell_type": "code",
   "execution_count": null,
   "metadata": {},
   "outputs": [],
   "source": [
    "dicEj = {'Hugo':15,'Paco':22,'Luis':12,'Donald':17}\n",
    "print(dicEj)"
   ]
  },
  {
   "cell_type": "code",
   "execution_count": null,
   "metadata": {},
   "outputs": [],
   "source": [
    "# Que edad tiene hugo?\n",
    "print(dicEj['Hugo'])"
   ]
  },
  {
   "cell_type": "code",
   "execution_count": null,
   "metadata": {},
   "outputs": [],
   "source": [
    "# Insertamos a una persona mas\n",
    "dicEj['Mickey'] = 14\n",
    "print(dicEj)"
   ]
  },
  {
   "cell_type": "code",
   "execution_count": null,
   "metadata": {},
   "outputs": [],
   "source": [
    "# Su cumple fue ayer\n",
    "dicEj['Mickey']=15\n",
    "print(dicEj)"
   ]
  },
  {
   "cell_type": "code",
   "execution_count": null,
   "metadata": {},
   "outputs": [],
   "source": [
    "# Corrimos a Mickey de la escuela\n",
    "del dicEj['Mickey']\n",
    "print(dicEj)"
   ]
  },
  {
   "cell_type": "code",
   "execution_count": null,
   "metadata": {},
   "outputs": [],
   "source": [
    "# Lo mismo pero ahora con color de cabello,\n",
    "# Que color de cabello tiene Hugo?\n",
    "dicEj = {'Hugo':[15,'rubio'],'Paco':[22, 'castano'],'Luis':[12,'negro'],'Donald':[17,'rojo']}\n",
    "print(dicEj['Hugo'][1])"
   ]
  },
  {
   "cell_type": "markdown",
   "metadata": {},
   "source": [
    "### Funciones generales en Python"
   ]
  },
  {
   "cell_type": "code",
   "execution_count": null,
   "metadata": {},
   "outputs": [],
   "source": [
    "# Valor absoluto de una variable\n",
    "Num1 = -5\n",
    "Num2 = 5\n",
    "print(abs(Num1))\n",
    "if abs(Num1) == Num2:\n",
    "    print('Cierto!')"
   ]
  },
  {
   "cell_type": "code",
   "execution_count": null,
   "metadata": {},
   "outputs": [],
   "source": [
    "# ayuda con los modulos\n",
    "import statistics\n",
    "help(statistics)"
   ]
  },
  {
   "cell_type": "code",
   "execution_count": null,
   "metadata": {},
   "outputs": [],
   "source": [
    "# Max & Min\n",
    "Lista1 = [5,2,1,6,7]\n",
    "\n",
    "masGrande = max(Lista1)\n",
    "print(masGrande)\n",
    "\n",
    "masPeque = min(Lista1)\n",
    "print(masPeque)"
   ]
  },
  {
   "cell_type": "code",
   "execution_count": null,
   "metadata": {},
   "outputs": [],
   "source": [
    "# Redondeo\n",
    "x = 5.622\n",
    "x = round(x)\n",
    "print(x)\n",
    "\n",
    "y = 5.256\n",
    "y = round(y)\n",
    "print(y)"
   ]
  },
  {
   "cell_type": "code",
   "execution_count": null,
   "metadata": {},
   "outputs": [],
   "source": [
    "# String a Integer\n",
    "intEj = '55'\n",
    "intEj = int(intEj)\n",
    "print(intEj)\n",
    "print(type(intEj))\n",
    "\n",
    "# Integer a String\n",
    "stringEj = 55\n",
    "stringEj = str(stringEj)\n",
    "print(stringEj)\n",
    "print(type(stringEj))\n",
    "\n",
    "# Integer a Float\n",
    "floatEj = 55\n",
    "floatEj = float(floatEj)\n",
    "print(floatEj)\n",
    "print(type(floatEj))\n",
    "\n",
    "# Float a Integer\n",
    "intEj = 55.0\n",
    "intEj = int(intEj)\n",
    "print(intEj)\n",
    "print(type(intEj))"
   ]
  },
  {
   "cell_type": "markdown",
   "metadata": {},
   "source": [
    "### Modulo OS\n",
    "El modulo OS en Python existe con el proposito de interactuar con nuestro sistema operativo, con el puedes crear, borrar, mover folders, cambiar nuestro directorio de trabajo, etc, etc. El modulo os viene con Python por default, pero no es una funcion built-in por lo que hay que importarla. Un ejemplo sencillo:\n",
    "\n"
   ]
  },
  {
   "cell_type": "code",
   "execution_count": null,
   "metadata": {},
   "outputs": [],
   "source": [
    "import os\n",
    "\n",
    "currentDir = os.getcwd()\n",
    "print(currentDir)"
   ]
  },
  {
   "cell_type": "code",
   "execution_count": null,
   "metadata": {},
   "outputs": [],
   "source": [
    "# Crear un folder\n",
    "os.mkdir('dirNuevo')"
   ]
  },
  {
   "cell_type": "code",
   "execution_count": null,
   "metadata": {},
   "outputs": [],
   "source": [
    "# Renombrar folder\n",
    "os.rename('dirNuevo','dirNuevo2')"
   ]
  },
  {
   "cell_type": "code",
   "execution_count": null,
   "metadata": {},
   "outputs": [],
   "source": [
    "# Borrar folder\n",
    "os.rmdir('dirNuevo2')"
   ]
  },
  {
   "cell_type": "markdown",
   "metadata": {},
   "source": [
    "### Modulo Pickle\n",
    "Para terminar con Python basics exploremos el modulo de Pickle, el cual viene con tu instalacion estandar de Python. A que nos referimos con pickling? Pickling es la serialización y des-serialización de objetos de Python a un flujo de bytes. Unpicking es lo opuesto. Es posible que escuche esta metodología llamada serialización, ordenación o aplanamiento en otros idiomas, pero en Python se la conoce exclusivamente como pickling. Entonces, ¿qué significa pickling? El pickling se usa para almacenar objetos de Python, listas, diccionarios, classes y sus objetos, etc.\n",
    "\n",
    "¿Cuáles son algunos ejemplos?\n",
    "\n",
    "En general, vamos a encontrar que el pickling es más útil en el análisis de datos, donde está realizando tareas de rutina en los datos, como el preprocesamiento. Además, tiene mucho sentido cuando trabaja con tipos de datos específicos de Python, como los diccionarios.\n",
    "\n",
    "Por ejemplo, utilizamos el pickling en la serie de tutoriales NLTK para guardar nuestro algoritmo de Machine Learning entrenado. Esto es así que, cada vez que queremos usarlo, no necesitamos volver a entrenarlo constantemente, lo que lleva un tiempo.\n",
    "\n",
    "En su lugar, solo entrenamos el algoritmo una vez, lo almacenamos en una variable (un objeto), y luego lo guardamos con pickle. En el caso del módulo NLTK, generar los clasificadores cada vez tomaba 5-15 + minutos. Con pickle, tarda unos 5 segundos.\n",
    "\n",
    "Si tienemos un conjunto de datos grande, por ejemplo, y estas cargando ese conjunto de datos masivos en la memoria cada vez que ejecuta el programa, en este tipo de casos es mejor hacer uso de pickle, y luego cargar el archivo pickle, porque será mucho más rápido, de nuevo por 50 - 100x, a veces mucho más dependiendo del tamaño."
   ]
  },
  {
   "cell_type": "code",
   "execution_count": null,
   "metadata": {},
   "outputs": [],
   "source": [
    "# importamos pickle\n",
    "import pickle\n",
    "\n",
    "# creamos un diccionario para utilizar como objecto de Python\n",
    "dicEj = {1:\"6\",2:\"2\",3:\"f\"}\n",
    "\n",
    "# nombre que le daremos al .pickle que vamos a escribir\n",
    "pickle_out = open(\"dict.pickle\",\"wb\")\n",
    "# usando el .dump guardamos el diccionario en el archivo pickle\n",
    "pickle.dump(dicEj, pickle_out)\n",
    "# como cualquier archivo abierto tenemos que cerrarlo\n",
    "pickle_out.close()"
   ]
  },
  {
   "cell_type": "code",
   "execution_count": null,
   "metadata": {},
   "outputs": [],
   "source": [
    "# abrimos el archivo de pickle\n",
    "pickle_in = open(\"dict.pickle\",\"rb\")\n",
    "# con .load() lo cargamos en una variable\n",
    "dicEj = pickle.load(pickle_in)"
   ]
  },
  {
   "cell_type": "code",
   "execution_count": null,
   "metadata": {},
   "outputs": [],
   "source": [
    "print(dicEj)\n",
    "print(dicEj[3])"
   ]
  },
  {
   "cell_type": "code",
   "execution_count": null,
   "metadata": {},
   "outputs": [],
   "source": []
  }
 ],
 "metadata": {
  "kernelspec": {
   "display_name": "Python 3",
   "language": "python",
   "name": "python3"
  },
  "language_info": {
   "codemirror_mode": {
    "name": "ipython",
    "version": 3
   },
   "file_extension": ".py",
   "mimetype": "text/x-python",
   "name": "python",
   "nbconvert_exporter": "python",
   "pygments_lexer": "ipython3",
   "version": "3.6.7"
  }
 },
 "nbformat": 4,
 "nbformat_minor": 1
}
